{
 "cells": [
  {
   "cell_type": "code",
   "execution_count": 19,
   "metadata": {},
   "outputs": [],
   "source": [
    "import numpy as np\n",
    "import scipy.linalg as linalg\n",
    "from scipy.sparse import linalg as spla\n",
    "import scipy.sparse as sparse\n",
    "import timeit"
   ]
  },
  {
   "cell_type": "code",
   "execution_count": 32,
   "metadata": {},
   "outputs": [],
   "source": [
    "def error (approx , exact ):\n",
    "    return linalg . norm ( approx - exact )/n\n",
    "def solver_wrapper (a, b, solver =\"general\"):\n",
    "    if solver == \"inv\":\n",
    "        a_inv = linalg.inv (a)\n",
    "        return a_inv @ b\n",
    "    elif solver == \"general\":\n",
    "        return linalg.solve (a, b)\n",
    "    elif solver == \"spd\":\n",
    "        return linalg.solve (a, b, assume_a =\"pos\")\n",
    "    elif solver == \"toeplitz\":\n",
    "        return linalg.solve_toeplitz (a[0, :], b)\n",
    "    elif solver == \"sparse_inv\":\n",
    "        a_inv = spla.inv (a)\n",
    "        return a_inv @ b\n",
    "    elif solver == \"sparse_general\":\n",
    "        return spla.spsolve (a, b)\n",
    "    elif solver == \"cg\":\n",
    "        return spla.cg(a, b, maxiter =50) [0]\n",
    "    else :\n",
    "        raise Exception (\" Unknown solver \")\n"
   ]
  },
  {
   "cell_type": "code",
   "execution_count": 50,
   "metadata": {},
   "outputs": [
    {
     "name": "stdout",
     "output_type": "stream",
     "text": [
      "[ 4 -2  4 -2]\n"
     ]
    }
   ],
   "source": [
    "A = np.array([[2, - 1 , 2], \n",
    "                [-1, 2, -1], \n",
    "                [ 2 ,-1, 2],\n",
    "                  [-1 ,2, -1]])\n",
    "x = np.array([1, 0, 1])\n",
    "\n",
    "\n",
    "print(A@x)"
   ]
  },
  {
   "cell_type": "code",
   "execution_count": 33,
   "metadata": {},
   "outputs": [],
   "source": [
    "def experiment (solver , a, b, num_runs ):\n",
    "    print (\"\\ nSolver : {}\".format( solver ), end =\"\\n\"+\"-\" *25+ \"\\n\")\n",
    "    wall_time = timeit.timeit('x = solver_wrapper (a,b, solver = solver )',globals = globals() , number = num_runs )\n",
    "    print (\" Time :     {:2.2f} seconds \".format( wall_time ))\n",
    "    x = solver_wrapper (a, b, solver = solver )\n",
    "    print (\" Error :        {:.2e}\".format(error(x, exact )))\n",
    "\n"
   ]
  },
  {
   "cell_type": "code",
   "execution_count": 35,
   "metadata": {},
   "outputs": [
    {
     "name": "stdout",
     "output_type": "stream",
     "text": [
      "inv\n",
      "\\ nSolver : inv\n",
      "-------------------------\n",
      " Time :     2.16 seconds \n",
      " Error :        2.13e-14\n",
      "general\n",
      "\\ nSolver : general\n",
      "-------------------------\n",
      " Time :     0.92 seconds \n",
      " Error :        2.12e-14\n",
      "spd\n",
      "\\ nSolver : spd\n",
      "-------------------------\n",
      " Time :     0.77 seconds \n",
      " Error :        4.34e-14\n",
      "toeplitz\n",
      "\\ nSolver : toeplitz\n",
      "-------------------------\n",
      " Time :     0.08 seconds \n",
      " Error :        1.00e-13\n",
      "cg\n",
      "\\ nSolver : cg\n",
      "-------------------------\n",
      " Time :     0.64 seconds \n",
      " Error :        1.97e-02\n",
      "\\ nSolver : sparse_inv\n",
      "-------------------------\n"
     ]
    },
    {
     "name": "stderr",
     "output_type": "stream",
     "text": [
      "C:\\Users\\looka\\AppData\\Roaming\\Python\\Python310\\site-packages\\scipy\\sparse\\linalg\\_dsolve\\linsolve.py:322: SparseEfficiencyWarning: splu requires CSC matrix format\n",
      "  warn('splu requires CSC matrix format', SparseEfficiencyWarning)\n",
      "C:\\Users\\looka\\AppData\\Roaming\\Python\\Python310\\site-packages\\scipy\\sparse\\linalg\\_dsolve\\linsolve.py:215: SparseEfficiencyWarning: spsolve is more efficient when sparse b is in the CSC matrix format\n",
      "  warn('spsolve is more efficient when sparse b '\n"
     ]
    },
    {
     "name": "stdout",
     "output_type": "stream",
     "text": [
      " Time :     3.33 seconds \n",
      " Error :        2.13e-14\n",
      "\\ nSolver : sparse_general\n",
      "-------------------------\n",
      " Time :     0.01 seconds \n",
      " Error :        2.13e-14\n",
      "\\ nSolver : cg\n",
      "-------------------------\n",
      " Time :     0.01 seconds \n",
      " Error :        1.97e-02\n"
     ]
    }
   ],
   "source": [
    "n = 2500\n",
    "b = np.zeros(n) # 1 * 2500  --- vector b\n",
    "b[0] , b[ -1] = 1, 1\n",
    "exact = np.ones(n) # actual matmul of A * b is 1,1,1,1,1,.......\n",
    "num_runs = 5\n",
    "\n",
    "# DENSE\n",
    "a = -np.eye(n, k= -1) + 2 * np.eye(n) + -np.eye(n, k =1) # 2500 * 2500 --- matrix a\n",
    "solvers = (\"inv\", \"general\", \"spd\", \"toeplitz\", \"cg\") \n",
    "for solver in solvers :\n",
    "    #print(solver)\n",
    "    experiment ( solver , a, b, num_runs )\n",
    "\n",
    "# SPARSE\n",
    "a = sparse.csr_matrix(a)\n",
    "sparse_solvers = (\"sparse_inv\", \"sparse_general\", \"cg\")\n",
    "for solver in sparse_solvers :\n",
    "    experiment ( solver , a, b, num_runs )"
   ]
  },
  {
   "cell_type": "code",
   "execution_count": 64,
   "metadata": {},
   "outputs": [],
   "source": [
    "m = 3\n",
    "a = -np.eye (4, k= -1) + 2 * np.eye (4) + -np.eye (4, k =1)\n"
   ]
  },
  {
   "cell_type": "code",
   "execution_count": 66,
   "metadata": {},
   "outputs": [
    {
     "data": {
      "text/plain": [
       "array([1., 0., 0., 1.])"
      ]
     },
     "execution_count": 66,
     "metadata": {},
     "output_type": "execute_result"
    }
   ],
   "source": [
    "b = np. zeros (4)\n",
    "b[0] , b[ -1] = 1, 1\n",
    "b"
   ]
  },
  {
   "cell_type": "code",
   "execution_count": 65,
   "metadata": {},
   "outputs": [
    {
     "data": {
      "text/plain": [
       "array([ 2., -1., -1.,  2.])"
      ]
     },
     "execution_count": 65,
     "metadata": {},
     "output_type": "execute_result"
    }
   ],
   "source": [
    "a@b"
   ]
  },
  {
   "cell_type": "code",
   "execution_count": null,
   "metadata": {},
   "outputs": [],
   "source": [
    "if __name__ == \" __main__ \":\n",
    "    n = 2500\n",
    "    b = np. zeros (n)\n",
    "    b[0] , b[ -1] = 1, 1\n",
    "    exact = np.ones (n) ### assumeed actual result\n",
    "    num_runs = 5\n",
    "\n",
    "    # DENSE\n",
    "    a = -np.eye (n, k= -1) + 2 * np.eye (n) + -np.eye (n, k =1) # one step lower diagonal (k = -1) + one step upper diagonal(k = 1)\n",
    "    solvers = (\" inv\", \" general \", \" spd\", \" toeplitz \", \"cg\")\n",
    "    for solver in solvers :\n",
    "        experiment ( solver , a, b, num_runs )\n",
    "\n",
    "    # SPARSE\n",
    "    a = sparse . csr_matrix (a)\n",
    "    sparse_solvers = (\" sparse_inv \", \" sparse_general \", \"cg\")\n",
    "    for solver in sparse_solvers :\n",
    "        experiment ( solver , a, b, num_runs )"
   ]
  }
 ],
 "metadata": {
  "kernelspec": {
   "display_name": "Python 3",
   "language": "python",
   "name": "python3"
  },
  "language_info": {
   "codemirror_mode": {
    "name": "ipython",
    "version": 3
   },
   "file_extension": ".py",
   "mimetype": "text/x-python",
   "name": "python",
   "nbconvert_exporter": "python",
   "pygments_lexer": "ipython3",
   "version": "3.10.0"
  },
  "orig_nbformat": 4,
  "vscode": {
   "interpreter": {
    "hash": "26de051ba29f2982a8de78e945f0abaf191376122a1563185a90213a26c5da77"
   }
  }
 },
 "nbformat": 4,
 "nbformat_minor": 2
}
