{
 "cells": [
  {
   "cell_type": "code",
   "execution_count": 1,
   "metadata": {},
   "outputs": [],
   "source": [
    "import numpy as np\n",
    "import matplotlib . pyplot as plt\n",
    "\n",
    "import scipy . linalg as linalg"
   ]
  },
  {
   "cell_type": "code",
   "execution_count": 4,
   "metadata": {},
   "outputs": [],
   "source": [
    "# in scipy : scipy . linalg .qr(A, mode =\" economic \")\n",
    "def qr_factor (A):\n",
    "    \"\"\"\n",
    "    Computes a ( reduced ) QR - decomposition of a (mxn)-matrix with m >=n\n",
    "    via Gram - Schmidt Algorithm assumed rank (A)=n.\n",
    "    Parameters\n",
    "    ----------\n",
    "    A : (mxn ) matrix with m >=n, rank (A)=n\n",
    "    Returns\n",
    "    -------\n",
    "    Q : (mxn ) with orthonormal columns\n",
    "    R : (nxn ) upper triangular matrix\n",
    "    \"\"\"\n",
    "    m, n = A. shape\n",
    "    R = np. zeros ((n, n))\n",
    "    Q = np. zeros ((m, n))\n",
    "    R[0, 0] = np. linalg . norm (A[:, 0]) ### norm of (A[:, 0]) first column\n",
    "    Q[:, 0] = A[:, 0] / R[0, 0] ## first column of Q = first column of A / norm(1st colm A) \n",
    "    for k in range (1, n):\n",
    "        for l in range (0, k):\n",
    "            R[l, k] = A[:, k] @ Q[:, l]\n",
    "        q = A[:, k] - Q @ R[:, k]\n",
    "        R[k, k] = np. linalg . norm (q)\n",
    "        Q[:, k] = q / R[k, k]\n",
    "    return Q, R"
   ]
  },
  {
   "attachments": {},
   "cell_type": "markdown",
   "metadata": {},
   "source": [
    "### The outer loop iterates over each column of A, except the first column (since the first column is used to initialize Q and R). The inner loop iterates over the previous columns of A, in order to orthogonalize the current column with respect to the previous columns.\n",
    "\n",
    "### For each pair of columns (k and l), the code computes the inner product between the current column A[:, k] and the l-th column of Q. This inner product is stored in the R matrix at position (l, k). The code then subtracts the projection of A[:, k] onto the l-th column of Q from A[:, k], in order to obtain a new vector q that is orthogonal to all previous columns of Q.\n",
    "\n",
    "### The norm of q is stored in the diagonal element R[k, k], and Q[:, k] is obtained by normalizing q with this norm."
   ]
  },
  {
   "cell_type": "code",
   "execution_count": 9,
   "metadata": {},
   "outputs": [],
   "source": [
    "### Find a NumPy function to generate a Vandermonde matrix A based on this grid.\n",
    "def example_vander_legendre ( gridpoints , degree ): ###(m,n)\n",
    "    grid = np. linspace (-1, 1, 5)\n",
    "    A = np. vander (grid , degree , increasing = True )\n",
    "    plt. figure (\" Standard Monomials \")\n",
    "    plt. plot (grid , A)\n",
    "    plt. legend ( range (A. shape [1]) )\n",
    "    Q, R = qr_factor (A)\n",
    "    plt. figure (\" Variant of Legendre Polynomials \")\n",
    "    Q, R = qr_factor (A)\n",
    "    plt. plot (grid , Q, \"-\")\n",
    "    plt. legend ( range (Q. shape [1]) )\n",
    "    plt. show ()\n",
    "    return A, Q, R"
   ]
  },
  {
   "cell_type": "code",
   "execution_count": 7,
   "metadata": {},
   "outputs": [],
   "source": [
    "def test_qr (A, Q, R, mode =\" full \"):\n",
    "    print (\"\\ nTest 1: Q.TQ = I is\",\n",
    "    np. allclose (Q. transpose ()@Q , np. eye (A. shape [1]) ))  ### checking if QTQ == Identity matrix\n",
    "    print (\"\\ nTest 2: QR = A is\",\n",
    "    np. allclose (Q@R , A))   #### Q * R == A"
   ]
  },
  {
   "cell_type": "code",
   "execution_count": 10,
   "metadata": {},
   "outputs": [
    {
     "data": {
      "image/png": "[encoded data removed]",
      "text/plain": [
       "<Figure size 432x288 with 1 Axes>"
      ]
     },
     "metadata": {
      "needs_background": "light"
     },
     "output_type": "display_data"
    },
    {
     "data": {
      "image/png": "[encoded data removed]",
      "text/plain": [
       "<Figure size 432x288 with 1 Axes>"
      ]
     },
     "metadata": {
      "needs_background": "light"
     },
     "output_type": "display_data"
    },
    {
     "name": "stdout",
     "output_type": "stream",
     "text": [
      "\\ nTest 1: Q.TQ = I is True\n",
      "\\ nTest 2: QR = A is True\n"
     ]
    }
   ],
   "source": [
    "m, n = 5 , 2\n",
    "A, Q, R = example_vander_legendre (m, n)\n",
    "test_qr (A, Q, R)"
   ]
  },
  {
   "cell_type": "code",
   "execution_count": null,
   "metadata": {},
   "outputs": [],
   "source": [
    "def poly_curve_fit (data , p, own = True ):\n",
    "    \"\"\"\n",
    "    INPUT :\n",
    "    numpy . ndarray data of shape (2,m) with\n",
    "    data [0 ,:] = (z_1 , ... , z_m ) explanatory / independent variables\n",
    "    data [1 ,:] = (y_1 , ... , y_m ) response / dependent variables\n",
    "    list p = [p1 , p2 ,... , pn] determining the polynomial model\n",
    "    f_c (z) = c1 * z^p1 + ... + cn * z^pn\n",
    "    own : switch to use either our approach with ( reduced ) QR - decomposition\n",
    "    or SciPy 's routine to solve the least squares problem\n",
    "    OUTPUT :\n",
    "    numpy . ndarray c of shape (n ,) such that\n",
    "    c = argmin_c sum_i ( f_c( z_i ) - y_i)^2\n",
    "    \"\"\"\n",
    "    # (a) assemble the vector b\n",
    "    b = data [1 ,:]\n",
    "    # (b) assemble the matrix A\n",
    "    z_i = data [0 ,:][ np. newaxis ].T\n",
    "    A = z_i **p\n",
    "    # (c) determine c by solving using QR Decomposition\n",
    "    if own == True :\n",
    "        # \" factor_qr \"\n",
    "        Q, R = linalg .qr(A)\n",
    "        m, n = len(b), len(p)\n",
    "        Q, R = Q [0:m ,0: n], R [0:n ,0: n]\n",
    "        # \" solve_qr \"\n",
    "        c = linalg . solve_triangular (R, Q.T @ b )\n",
    "    else :\n",
    "        c , res , rnk , s = linalg . lstsq (A,b)\n",
    "\n",
    "    return c"
   ]
  }
 ],
 "metadata": {
  "kernelspec": {
   "display_name": "Python 3",
   "language": "python",
   "name": "python3"
  },
  "language_info": {
   "codemirror_mode": {
    "name": "ipython",
    "version": 3
   },
   "file_extension": ".py",
   "mimetype": "text/x-python",
   "name": "python",
   "nbconvert_exporter": "python",
   "pygments_lexer": "ipython3",
   "version": "3.10.0"
  },
  "orig_nbformat": 4,
  "vscode": {
   "interpreter": {
    "hash": "26de051ba29f2982a8de78e945f0abaf191376122a1563185a90213a26c5da77"
   }
  }
 },
 "nbformat": 4,
 "nbformat_minor": 2
}
