{
 "cells": [
  {
   "cell_type": "code",
   "execution_count": 1,
   "metadata": {},
   "outputs": [],
   "source": [
    "import numpy as np\n",
    "from scipy.linalg import solve_triangular"
   ]
  },
  {
   "cell_type": "code",
   "execution_count": 2,
   "metadata": {},
   "outputs": [],
   "source": [
    "def solve_tri (A, b, lower = False ):\n",
    "    \"\"\"\n",
    "    Solves a system Ax = b where A is triangular .\n",
    "    Parameters :\n",
    "    -----------\n",
    "    A : triangular matrix as numpy . ndarray of shape (n,n)\n",
    "    b : right - hand side vector as numpy . ndarray of shape (n ,)\n",
    "    lower : boolean determining if lower or upper triangular\n",
    "    Returns :\n",
    "    --------\n",
    "    x : solution of Ax = b as numpy . ndarray of shape (n ,)\n",
    "    \"\"\"\n",
    "    m, n = A. shape\n",
    "    nb = len (b)\n",
    "    d = A. diagonal () ### diagonal value of matrix A\n",
    "\n",
    "    # test dimensions of A and b\n",
    "    if m != nb:\n",
    "        raise Exception ('dimension of A and b must match . The dimension for A\\\n",
    "                        and b are : {} and {} '. format (np. shape (A), len(b)))\n",
    "\n",
    "    # test if A is invertible : quadratic ?\n",
    "    elif n != m:\n",
    "        raise Exception ('A is not invertible , its shape is nonquadratic :\\\n",
    "                        {} '. format (np. shape (A)))\n",
    "\n",
    "    # test if A is invertible : nonzero diagonals ?\n",
    "    elif np.any (d == 0):\n",
    "        raise Exception ('A is not invertible , it has zero diagonal entries ')\n",
    "\n",
    "    # A is invertible :\n",
    "    else :\n",
    "        x = np. zeros (n)\n",
    "        # solve for lower triangular matrix\n",
    "        if lower :\n",
    "            for i in range (n):\n",
    "                for j in range (i):\n",
    "                    x[i] += 1. / A[i, i] * (-A[i, j] * x[j])\n",
    "                x[i] += 1. / A[i, i] * b[i]\n",
    "        # solve for upper triangular matrix\n",
    "        else :\n",
    "            for i in range (n) [:: -1]:\n",
    "                for j in range (i+1, n):\n",
    "                    x[i] += 1. / A[i, i] * (-A[i, j] * x[j])\n",
    "                x[i] += 1. / A[i, i] * b[i]\n",
    "    return x"
   ]
  },
  {
   "cell_type": "code",
   "execution_count": 3,
   "metadata": {},
   "outputs": [
    {
     "name": "stdout",
     "output_type": "stream",
     "text": [
      " det (A) = 0.007325865572947577\n",
      " cond (A) = 2339.133308336833\n",
      " min ( diag (A)) = 0.506331043721971\n",
      " our test Ax=b: True\n",
      " scipy test Ax=b: True\n"
     ]
    }
   ],
   "source": [
    "## Test dimension mismatch\n",
    "# A = np. array ([[2 , 0],\n",
    "# [0, 1]])\n",
    "# b = np. array ([6])\n",
    "# x = solve_tri (A, b, lower = True )\n",
    "## Test nonqudratic A\n",
    "# A = np. array ([[2 , 0, 1],\n",
    "# [0, 1, 1] ,])\n",
    "# b = np. array ([6 , 2])\n",
    "# x = solve_tri (A,b, lower = True )\n",
    "## Test noninvertible A\n",
    "# A = np. array ([[2 , 0,],\n",
    "# [0, 0] ,])\n",
    "# b = np. array ([6 ,2])\n",
    "# x = solve_tri (A,b, lower = True )\n",
    "## Test : ill - conditioned for small delta and large n\n",
    "n = 100\n",
    "delta = 1.0\n",
    "# draw from uniform distribution , shift with -0.5 and strengthen diagonal\n",
    "A = np. tril (np. random . rand (n,n) -0.5) + delta * np. eye (n) ### lower triangulat matrix\n",
    "print (\" det (A) = {}\\n cond (A) = {}\\n min ( diag (A)) = {}\". format (np. linalg . det (A), #### determenent of A\n",
    "                                                                    np. linalg . cond (A), #### condition number of A\n",
    "                                                                    np. min( abs(A. diagonal ()) #### minimum absolute diagonal value\n",
    "                                                                    )))\n",
    "b = np. random . rand (n)\n",
    "x = solve_tri (A,b, lower = True )\n",
    "print (\" our test Ax=b:\", np. allclose (A.dot (x),b))\n",
    "# in SciPy\n",
    "\n",
    "x = solve_triangular (A, b, lower = True )\n",
    "print (\" scipy test Ax=b:\", np. allclose (A.dot (x),b))\n",
    "    # imshow on the matrix\n",
    "    # import matplotlib . pyplot as plt\n",
    "    # plt. imshow (A)\n",
    "    # plt. show ()"
   ]
  },
  {
   "cell_type": "code",
   "execution_count": 4,
   "metadata": {},
   "outputs": [],
   "source": [
    "# if __name__ == \" __main__ \":\n",
    "#     ## Test dimension mismatch\n",
    "#     # A = np. array ([[2 , 0],\n",
    "#     # [0, 1]])\n",
    "#     # b = np. array ([6])\n",
    "#     # x = solve_tri (A, b, lower = True )\n",
    "#     ## Test nonqudratic A\n",
    "#     # A = np. array ([[2 , 0, 1],\n",
    "#     # [0, 1, 1] ,])\n",
    "#     # b = np. array ([6 , 2])\n",
    "#     # x = solve_tri (A,b, lower = True )\n",
    "#     ## Test noninvertible A\n",
    "#     # A = np. array ([[2 , 0,],\n",
    "#     # [0, 0] ,])\n",
    "#     # b = np. array ([6 ,2])\n",
    "#     # x = solve_tri (A,b, lower = True )\n",
    "#     ## Test : ill - conditioned for small delta and large n\n",
    "#     n = 100\n",
    "#     delta = 1.0\n",
    "#     # draw from uniform distribution , shift with -0.5 and strengthen diagonal\n",
    "#     A = np. tril (np. random . rand (n,n) -0.5) + delta * np. eye (n)\n",
    "#     print (\" det (A) = {}\\ ncond (A) = {}\\ nmin ( diag (A)) = {}\". format (np. linalg . det (A),\n",
    "#                                                                     np. linalg . cond (A),\n",
    "#                                                                     np. min( abs(A. diagonal ())\n",
    "#                                                                     )))\n",
    "#     b = np. random . rand (n)\n",
    "#     x = solve_tri (A,b, lower = True )\n",
    "#     print (\" our test Ax=b:\", np. allclose (A.dot (x),b))\n",
    "#     # in SciPy\n",
    "#     from scipy . linalg import solve_triangular\n",
    "#     x = solve_triangular (A, b, lower = True )\n",
    "#     print (\" scipy test Ax=b:\", np. allclose (A.dot (x),b))\n",
    "#     # imshow on the matrix\n",
    "#     # import matplotlib . pyplot as plt\n",
    "#     # plt. imshow (A)\n",
    "#     # plt. show ()"
   ]
  }
 ],
 "metadata": {
  "kernelspec": {
   "display_name": "Python 3",
   "language": "python",
   "name": "python3"
  },
  "language_info": {
   "codemirror_mode": {
    "name": "ipython",
    "version": 3
   },
   "file_extension": ".py",
   "mimetype": "text/x-python",
   "name": "python",
   "nbconvert_exporter": "python",
   "pygments_lexer": "ipython3",
   "version": "3.10.0"
  },
  "orig_nbformat": 4,
  "vscode": {
   "interpreter": {
    "hash": "26de051ba29f2982a8de78e945f0abaf191376122a1563185a90213a26c5da77"
   }
  }
 },
 "nbformat": 4,
 "nbformat_minor": 2
}
