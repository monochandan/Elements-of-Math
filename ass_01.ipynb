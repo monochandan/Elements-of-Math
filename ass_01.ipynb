{
 "cells": [
  {
   "cell_type": "code",
   "execution_count": 3,
   "metadata": {},
   "outputs": [],
   "source": [
    "import numpy as np\n",
    "import scipy . sparse as scs\n",
    "import timeit"
   ]
  },
  {
   "cell_type": "code",
   "execution_count": 4,
   "metadata": {},
   "outputs": [],
   "source": [
    "def matvec_dense (A, x, byhand=0):\n",
    "    \"\"\"\n",
    "    computes the matrix vector product based on numpy . ndarray\n",
    "    Parameters\n",
    "    ----------\n",
    "    A : (m,n) numpy . ndarray\n",
    "    matrix\n",
    "    x : (n, ) numpy . ndarray\n",
    "    vector\n",
    "    byhand : int\n",
    "    switch between for loop and @ operator\n",
    "\n",
    "    Returns\n",
    "    -------\n",
    "    A*x: matrix - vector product\n",
    "    \"\"\"\n",
    "    if byhand:\n",
    "        # read the dimensions of the input objects\n",
    "        m, n = np.shape (A)  # m = row, n = column\n",
    "        nx = len (x)\n",
    "        # raise an error if the dimensions do not match\n",
    "        if n != nx:\n",
    "            raise Exception ('dimension of A and x must match . The dimension \\\n",
    "            for A and x were : {} '. format ( str(np. shape (A))\n",
    "            + \" \" + str(len(x))))\n",
    "        # if dimensions match , start computing the matrix - vector product :\n",
    "        else:\n",
    "            # initialize the output vector\n",
    "            b = np. zeros (m) \n",
    "            # a loop over row indices to compute each entry of b\n",
    "            for i in range (m): # entere into ith row\n",
    "                # a loop over column indices to compute the inner product\n",
    "                for j in range (n): ### in every ith row take every value of jth column\n",
    "                    b[i] += A[i, j] * x[j]\n",
    "    else:\n",
    "        b = A. dot (x) # np. dot(A,x), A@x\n",
    "    return b"
   ]
  },
  {
   "cell_type": "code",
   "execution_count": 5,
   "metadata": {},
   "outputs": [],
   "source": [
    "# we could implement our own csr - class in python :\n",
    "# class csr_matrix :\n",
    "# def __init__ (self , data , indices , indptr ):\n",
    "# self . data = data\n",
    "# self . indices = indices\n",
    "# self . indptr = indptr\n",
    "def matvec_sparse (A, x, byhand =0):\n",
    "    \"\"\" computes the matrix vector product based on csr matrix\n",
    "    Parameters\n",
    "    ----------\n",
    "    A: (m,n) matrix stored in CSR , i.e., in terms of three lists ; here :\n",
    "    class with attributes data , indices , indptr\n",
    "    x: (n, ) numpy . ndarray or list of length n (= number of cols ) numbers\n",
    "    vector\n",
    "    byhand : int\n",
    "    switch between for loop and @ operator\n",
    "    Returns\n",
    "    -------\n",
    "    A*x: matrix - vector product\n",
    "    \"\"\"\n",
    "    if byhand:\n",
    "        # dimension check ?\n",
    "        # can we get the column dimension from sparse csr class ? > depends\n",
    "        b = [0] * ( len(A. indptr ) - 1)\n",
    "        for i, pair in enumerate ( zip(A. indptr [0: -1] , A. indptr [1:]) ): ### row pointer --- indexptr\n",
    "            for a_ij , j in zip (A. data [ pair [0]: pair [1]] ,\n",
    "                                A. indices [ pair [0]: pair [1]]) : ### column pointer --- indecies\n",
    "                b[i] += a_ij * x[j]\n",
    "    else :\n",
    "        # make sure A and x have the correct format for the dot method\n",
    "        A = scs. csr_matrix (A)\n",
    "        x = np. array (x)\n",
    "        # compute matrix - vector product\n",
    "        b = A. dot (x)\n",
    "    return np. array (b)\n",
    "\n"
   ]
  },
  {
   "cell_type": "code",
   "execution_count": 11,
   "metadata": {},
   "outputs": [
    {
     "name": "stdout",
     "output_type": "stream",
     "text": [
      "[ 0.6393822  -0.756049    0.93261638 -1.22717962  1.60197729 -0.89933922\n",
      " -0.32464128  0.65985742 -0.26273995  0.32711489]\n"
     ]
    }
   ],
   "source": [
    "n = 10\n",
    "m = n \n",
    "x = np.random.rand (n)\n",
    "A = 2 * scs.eye(n) - scs.eye(n, k=1) - scs.eye(n, k= -1)\n",
    "mat = matvec_sparse(A, x, byhand =0)\n",
    "print(mat)"
   ]
  },
  {
   "cell_type": "code",
   "execution_count": null,
   "metadata": {},
   "outputs": [],
   "source": [
    "A.indptr [0: -1]"
   ]
  },
  {
   "cell_type": "code",
   "execution_count": null,
   "metadata": {},
   "outputs": [],
   "source": [
    "A. indptr [1:]"
   ]
  },
  {
   "cell_type": "code",
   "execution_count": 33,
   "metadata": {},
   "outputs": [
    {
     "name": "stdout",
     "output_type": "stream",
     "text": [
      "matvec_dense(A, x) =  [16  6  8]\n",
      "matvec_sparse (A, x) =  [16  6  8]\n"
     ]
    }
   ],
   "source": [
    "# A = np.array([[ 5, 1 ,3], \n",
    "#                 [ 1, 1 ,1], \n",
    "#                 [ 1, 2 ,1]])\n",
    "# x = np.array([1, 2, 3])\n",
    "# b = matvec_dense (A, x)\n",
    "# print(\"matvec_dense(A, x) = \",b)\n",
    "# c = matvec_sparse (A, x)\n",
    "# print(\"matvec_sparse (A, x) = \",c)"
   ]
  },
  {
   "cell_type": "code",
   "execution_count": null,
   "metadata": {},
   "outputs": [],
   "source": [
    "print (\"\\nIn order to get the docstring of our function we can type \\\n",
    "\\n\\n help ( functionName )\\n\\ nFor example : \")\n",
    "print ( help ( matvec_dense ))"
   ]
  },
  {
   "cell_type": "code",
   "execution_count": 6,
   "metadata": {},
   "outputs": [
    {
     "name": "stdout",
     "output_type": "stream",
     "text": [
      "\n",
      "---- Scipy Sparse ----\n",
      " Memory: 0.0 Gbytes \n",
      "\n",
      " Test dot:  True\n"
     ]
    },
    {
     "ename": "IndentationError",
     "evalue": "unexpected indent (<timeit-src>, line 1)",
     "output_type": "error",
     "traceback": [
      "Traceback \u001b[1;36m(most recent call last)\u001b[0m:\n",
      "  File \u001b[0;32m~\\AppData\\Roaming\\Python\\Python310\\site-packages\\IPython\\core\\interactiveshell.py:3369\u001b[0m in \u001b[0;35mrun_code\u001b[0m\n    exec(code_obj, self.user_global_ns, self.user_ns)\n",
      "  Input \u001b[0;32mIn [6]\u001b[0m in \u001b[0;35m<cell line: 18>\u001b[0m\n    print (expstr[byhand], timeit.timeit(\"sparse()\",setup =\" from __main__ import sparse \", number = runs ),\"\\n\")\n",
      "  File \u001b[0;32mc:\\Program Files\\Python310\\lib\\timeit.py:234\u001b[0m in \u001b[0;35mtimeit\u001b[0m\n    return Timer(stmt, setup, timer, globals).timeit(number)\n",
      "\u001b[1;36m  File \u001b[1;32mc:\\Program Files\\Python310\\lib\\timeit.py:111\u001b[1;36m in \u001b[1;35m__init__\u001b[1;36m\u001b[0m\n\u001b[1;33m    compile(setup, dummy_src_name, \"exec\")\u001b[0m\n",
      "\u001b[1;36m  File \u001b[1;32m<timeit-src>:1\u001b[1;36m\u001b[0m\n\u001b[1;33m    from __main__ import sparse\u001b[0m\n\u001b[1;37m    ^\u001b[0m\n\u001b[1;31mIndentationError\u001b[0m\u001b[1;31m:\u001b[0m unexpected indent\n"
     ]
    }
   ],
   "source": [
    "# ---------------------------------------------------------------#\n",
    "# SCIPY SPARSE\n",
    "# ---------------------------------------------------------------#\n",
    "n = int(1e3) # matrix column dimension  1000\n",
    "m = n # matrix row dimension 1000\n",
    "runs = 50 # how many runs for time measurement\n",
    "x = np.random.rand (n) # random vector x\n",
    "# test arrays for which we know the result\n",
    "xtest = np.ones (n) # test input x\n",
    "btest = np.zeros (m) # known test output b\n",
    "btest [[0 , -1]] = 1\n",
    "# just some strings for printing commands\n",
    "expstr = [\" Time dot : \", \" Time hand : \"]\n",
    "teststr = [\" Test dot: \", \" Test by hand : \"]\n",
    "print (\"\\n---- Scipy Sparse ----\")\n",
    "A = 2 * scs.eye(n) - scs.eye(n, k=1) - scs.eye(n, k= -1)\n",
    "### What is the number of Gbytes needed to store an m * n array of floats\n",
    "print (\" Memory:\", np.round ((A.data.nbytes + A.indptr.nbytes + A.indices.nbytes ) * 10 ** -9, decimals =4) ,\"Gbytes \\n\") \n",
    "for byhand in [0, 1]:\n",
    "    print ( teststr[byhand],\n",
    "            np.allclose (btest , matvec_sparse (A, xtest , byhand = byhand )))\n",
    "    def sparse():\n",
    "        return matvec_sparse (A, x, byhand = byhand )\n",
    "    ### ### Measure the time which is needed in each case to compute the matrix-vector product for a random input vector x\n",
    "    print (expstr[byhand], timeit.timeit(\"sparse()\",setup =\" from __main__ import sparse \", number = runs ),\"\\n\") "
   ]
  },
  {
   "cell_type": "code",
   "execution_count": 7,
   "metadata": {},
   "outputs": [
    {
     "name": "stdout",
     "output_type": "stream",
     "text": [
      "\n",
      "---- Numpy Dense ----\n",
      " Memory : 0.008  Gbytes \n",
      "\n",
      " Test dot:  True\n",
      " Test by hand :  True\n",
      "\n",
      "---- Scipy Sparse ----\n",
      " Memory: 0.0 Gbytes \n",
      "\n",
      " Test dot:  True\n",
      " Test by hand :  True\n"
     ]
    }
   ],
   "source": [
    "n = int(1e3) # matrix column dimension\n",
    "m = n # matrix row dimension\n",
    "runs = 50 # how many runs for time measurement\n",
    "x = np.random.rand (n) # random vector x\n",
    "# test arrays for which we know the result\n",
    "xtest = np.ones (n) # test input x\n",
    "btest = np.zeros (m) # known test output b\n",
    "btest [[0 , -1]] = 1\n",
    "# just some strings for printing commands\n",
    "expstr = [\" Time dot : \", \" Time hand : \"]\n",
    "teststr = [\" Test dot: \", \" Test by hand : \"]\n",
    "# ---------------------------------------------------------------#\n",
    "# NUMPY DENSE\n",
    "# ---------------------------------------------------------------#\n",
    "print (\"\\n---- Numpy Dense ----\")\n",
    "A = 2 * np.eye(n) - np.eye(n, k =1) - np.eye(n, k= -1)\n",
    "print (\" Memory :\", np.round (A.nbytes * 10 ** -9, decimals =4) , \" Gbytes \\n\")\n",
    "for byhand in [0, 1]:\n",
    "    print ( teststr[byhand ], np.allclose(btest, matvec_dense (A, xtest , byhand = byhand )))\n",
    "    def dense ():\n",
    "        return matvec_dense (A, x, byhand = byhand )\n",
    "        print(expstr[byhand], timeit.timeit(\" dense ()\",setup =\" from __main__ import dense \", number = runs ),\"\\n\")\n",
    "# ---------------------------------------------------------------#\n",
    "# SCIPY SPARSE\n",
    "# ---------------------------------------------------------------#\n",
    "print (\"\\n---- Scipy Sparse ----\")\n",
    "A = 2 * scs.eye(n) - scs.eye(n, k=1) - scs.eye(n, k= -1)\n",
    "print (\" Memory:\", np.round ((A.data.nbytes + A.indptr.nbytes + A.indices.nbytes ) * 10 ** -9, decimals =4) ,\"Gbytes \\n\")\n",
    "for byhand in [0, 1]:\n",
    "    print( teststr[byhand],np.allclose(btest , matvec_sparse(A, xtest , byhand = byhand )))\n",
    "    def sparse():\n",
    "        return matvec_sparse (A, x, byhand = byhand )\n",
    "        print (expstr[byhand], timeit.timeit(\"sparse()\",setup =\" from __main__ import sparse \", number = runs ),\"\\n\")"
   ]
  },
  {
   "cell_type": "code",
   "execution_count": 10,
   "metadata": {},
   "outputs": [
    {
     "name": "stdout",
     "output_type": "stream",
     "text": [
      "  (0, 0)\t2.0\n",
      "  (0, 1)\t-1.0\n",
      "  (1, 0)\t-1.0\n",
      "  (1, 1)\t2.0\n",
      "  (1, 2)\t-1.0\n",
      "  (2, 1)\t-1.0\n",
      "  (2, 2)\t2.0\n",
      "  (2, 3)\t-1.0\n",
      "  (3, 2)\t-1.0\n",
      "  (3, 3)\t2.0\n",
      "  (3, 4)\t-1.0\n",
      "  (4, 3)\t-1.0\n",
      "  (4, 4)\t2.0\n",
      "  (4, 5)\t-1.0\n",
      "  (5, 4)\t-1.0\n",
      "  (5, 5)\t2.0\n",
      "  (5, 6)\t-1.0\n",
      "  (6, 5)\t-1.0\n",
      "  (6, 6)\t2.0\n",
      "  (6, 7)\t-1.0\n",
      "  (7, 6)\t-1.0\n",
      "  (7, 7)\t2.0\n",
      "  (7, 8)\t-1.0\n",
      "  (8, 7)\t-1.0\n",
      "  (8, 8)\t2.0\n",
      "  :\t:\n",
      "  (991, 991)\t2.0\n",
      "  (991, 992)\t-1.0\n",
      "  (992, 991)\t-1.0\n",
      "  (992, 992)\t2.0\n",
      "  (992, 993)\t-1.0\n",
      "  (993, 992)\t-1.0\n",
      "  (993, 993)\t2.0\n",
      "  (993, 994)\t-1.0\n",
      "  (994, 993)\t-1.0\n",
      "  (994, 994)\t2.0\n",
      "  (994, 995)\t-1.0\n",
      "  (995, 994)\t-1.0\n",
      "  (995, 995)\t2.0\n",
      "  (995, 996)\t-1.0\n",
      "  (996, 995)\t-1.0\n",
      "  (996, 996)\t2.0\n",
      "  (996, 997)\t-1.0\n",
      "  (997, 996)\t-1.0\n",
      "  (997, 997)\t2.0\n",
      "  (997, 998)\t-1.0\n",
      "  (998, 997)\t-1.0\n",
      "  (998, 998)\t2.0\n",
      "  (998, 999)\t-1.0\n",
      "  (999, 998)\t-1.0\n",
      "  (999, 999)\t2.0\n"
     ]
    }
   ],
   "source": [
    "print(A)"
   ]
  },
  {
   "cell_type": "code",
   "execution_count": 35,
   "metadata": {},
   "outputs": [],
   "source": [
    "if __name__ == \" __main__ \":\n",
    "    # Note : the following part is only executed if the current script is\n",
    "    # run directly , but not if it is imported into another script\n",
    "    # ---------------------------------------------------------------#\n",
    "    # EXPERIMENT\n",
    "    # ---------------------------------------------------------------#\n",
    "    # the experiment\n",
    "    n = int (1e3) # matrix column dimension --- 1000 column\n",
    "    m = n # matrix row dimension --- 1000 row\n",
    "    runs = 50 # how many runs for time measurement\n",
    "    x = np. random . rand (n) # random vector x\n",
    "    \n",
    "    # test arrays for which we know the result\n",
    "    xtest = np. ones (n) # test input x\n",
    "    btest = np. zeros (m) # known test output b\n",
    "    btest [[0 , -1]] = 1 ## first and öast value is 1\n",
    "    \n",
    "    # just some strings for printing commands\n",
    "    expstr = [\" Time dot : \", \" Time hand : \"]\n",
    "    teststr = [\" Test dot: \", \" Test by hand : \"]\n",
    "    \n",
    "    # ---------------------------------------------------------------#\n",
    "    # NUMPY DENSE\n",
    "    # ---------------------------------------------------------------#\n",
    "    print (\"\\n---- Numpy Dense ----\")\n",
    "    A = 2 * np. eye (n) - np. eye (n, k =1) - np. eye (n, k= -1)\n",
    "    print (\" Memory :\", np. round (A. nbytes * 10 ** -9, decimals =4) , \" Gbytes \\n\")\n",
    "    for byhand in [0, 1]:\n",
    "        print ( teststr [ byhand ], np. allclose (btest ,\n",
    "                                                    matvec_dense (A, xtest , byhand = byhand )))\n",
    "        def dense ():\n",
    "            return matvec_dense (A, x, byhand = byhand )\n",
    "        print ( expstr [ byhand ], timeit . timeit (\" dense ()\",\n",
    "                                                        setup =\" from __main__ import dense \", number = runs ),\n",
    "        \"\\n\")\n",
    "\n",
    "    # ---------------------------------------------------------------#\n",
    "    # SCIPY SPARSE\n",
    "    # ---------------------------------------------------------------#\n",
    "    print (\"\\n---- Scipy Sparse ----\")\n",
    "    A = 2 * scs.eye(n) - scs.eye(n, k=1) - scs.eye(n, k= -1)\n",
    "    print (\" Memory:\", np.round ((A.data.nbytes + A.indptr.nbytes + A.indices.nbytes ) * 10 ** -9, decimals =4) ,\"Gbytes \\n\")\n",
    "    for byhand in [0, 1]:\n",
    "        print ( teststr[byhand],\n",
    "                np.allclose (btest , matvec_sparse (A, xtest , byhand = byhand )))\n",
    "        def sparse():\n",
    "            return matvec_sparse (A, x, byhand = byhand )\n",
    "        print (expstr[byhand], timeit.timeit(\"sparse()\",setup =\" from __main__ import sparse \", number = runs ),\"\\n\")"
   ]
  },
  {
   "cell_type": "code",
   "execution_count": 47,
   "metadata": {},
   "outputs": [],
   "source": [
    "def check(b = 0):\n",
    "    if b:\n",
    "        print('checked')\n",
    "    else:\n",
    "        print('not checked')"
   ]
  },
  {
   "cell_type": "code",
   "execution_count": 48,
   "metadata": {},
   "outputs": [
    {
     "name": "stdout",
     "output_type": "stream",
     "text": [
      "not checked\n"
     ]
    }
   ],
   "source": [
    "check()"
   ]
  },
  {
   "cell_type": "code",
   "execution_count": 51,
   "metadata": {},
   "outputs": [
    {
     "data": {
      "text/plain": [
       "1000"
      ]
     },
     "execution_count": 51,
     "metadata": {},
     "output_type": "execute_result"
    }
   ],
   "source": [
    "int(1e3)"
   ]
  },
  {
   "cell_type": "code",
   "execution_count": 55,
   "metadata": {},
   "outputs": [
    {
     "data": {
      "text/plain": [
       "1000000000"
      ]
     },
     "execution_count": 55,
     "metadata": {},
     "output_type": "execute_result"
    }
   ],
   "source": [
    "int(1e9)"
   ]
  }
 ],
 "metadata": {
  "kernelspec": {
   "display_name": "Python 3",
   "language": "python",
   "name": "python3"
  },
  "language_info": {
   "codemirror_mode": {
    "name": "ipython",
    "version": 3
   },
   "file_extension": ".py",
   "mimetype": "text/x-python",
   "name": "python",
   "nbconvert_exporter": "python",
   "pygments_lexer": "ipython3",
   "version": "3.10.0"
  },
  "orig_nbformat": 4,
  "vscode": {
   "interpreter": {
    "hash": "26de051ba29f2982a8de78e945f0abaf191376122a1563185a90213a26c5da77"
   }
  }
 },
 "nbformat": 4,
 "nbformat_minor": 2
}
