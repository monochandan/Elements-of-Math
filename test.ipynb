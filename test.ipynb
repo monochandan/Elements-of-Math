{
 "cells": [
  {
   "cell_type": "code",
   "execution_count": 3,
   "metadata": {},
   "outputs": [],
   "source": [
    "import numpy as np\n",
    "from scipy import sparse"
   ]
  },
  {
   "cell_type": "code",
   "execution_count": 4,
   "metadata": {},
   "outputs": [
    {
     "data": {
      "text/plain": [
       "1000"
      ]
     },
     "execution_count": 4,
     "metadata": {},
     "output_type": "execute_result"
    }
   ],
   "source": [
    "n = int(1e3)\n",
    "n"
   ]
  },
  {
   "cell_type": "code",
   "execution_count": 9,
   "metadata": {},
   "outputs": [
    {
     "data": {
      "text/plain": [
       "(1000,)"
      ]
     },
     "execution_count": 9,
     "metadata": {},
     "output_type": "execute_result"
    }
   ],
   "source": [
    "x = np.random.rand (n)\n",
    "x.shape"
   ]
  },
  {
   "cell_type": "code",
   "execution_count": null,
   "metadata": {},
   "outputs": [],
   "source": [
    "A = 2 * sparse.eye(5) - sparse.eye(5, k=1) - sparse.eye(5, k= -1)\n",
    "\n",
    "b = [0] * ( len(A. indptr ) - 1)\n",
    "for i, pair in enumerate ( zip(A. indptr [0: -1] , A. indptr [1:]) ): ### row pointer --- indptr (row pointer)\n",
    "            print('i: ',i,' pair: ',pair, '\\n' ) ### pair from indptr e.g - (0,2) (2,5) (5,8) ..... for pointing the indecies and get the data\n",
    "            for a_ij , j in zip (A. data [ pair [0]: pair [1]] ,\n",
    "                                A. indices [ pair [0]: pair [1]]) : ### column pointer --- indecies\n",
    "                                #### for pair (0, 2) --- loop will run 2 times for (0,0) (0,1) --- 0th row in column 0, 1 have non zero values\n",
    "                                ### for pair (5,8) ---5th value start at row 2 so loop will run  (2,1) (2,2), (2,3) and  1,2,3 means at indieces 1,2,3 we have non zero values\n",
    "                                #### A.data giving the value of 0th and 1th location from data array\n",
    "                                #### A .indieces telling which columns of ith row has this values e.g - for 0th row the value is in 0, 1 column\n",
    "                print('a_ij: ',a_ij,' j: ',j, '\\n' ) ## a_ij = value in ith row and jth column\n",
    "                b[i] += a_ij * x[j]"
   ]
  },
  {
   "cell_type": "code",
   "execution_count": null,
   "metadata": {},
   "outputs": [],
   "source": [
    "A. indptr [0: -1]"
   ]
  },
  {
   "cell_type": "code",
   "execution_count": null,
   "metadata": {},
   "outputs": [],
   "source": [
    "A. indptr [1:]"
   ]
  },
  {
   "cell_type": "code",
   "execution_count": null,
   "metadata": {},
   "outputs": [],
   "source": [
    "A.toarray()"
   ]
  },
  {
   "cell_type": "code",
   "execution_count": null,
   "metadata": {},
   "outputs": [],
   "source": [
    "print(A.data)\n",
    "print(A.indices)\n",
    "print(A.indptr)\n"
   ]
  },
  {
   "cell_type": "code",
   "execution_count": null,
   "metadata": {},
   "outputs": [],
   "source": [
    "b = [0] * ( len(A. indptr ) - 1)\n",
    "b"
   ]
  },
  {
   "cell_type": "code",
   "execution_count": 5,
   "metadata": {},
   "outputs": [],
   "source": [
    "n = 5\n",
    "delta = 1.0\n",
    "A = np.tril (np. random . rand (n,n) -0.5) + delta * np. eye (n) ### tril -- lower triangular of an array"
   ]
  },
  {
   "cell_type": "code",
   "execution_count": 18,
   "metadata": {},
   "outputs": [
    {
     "name": "stdout",
     "output_type": "stream",
     "text": [
      "[0.84613166 0.59056853 1.2657805  1.45214275 0.7680628 ]\n"
     ]
    },
    {
     "data": {
      "text/plain": [
       "0.5905685326983553"
      ]
     },
     "execution_count": 18,
     "metadata": {},
     "output_type": "execute_result"
    }
   ],
   "source": [
    "print(A.diagonal())\n",
    "np. min( abs(A. diagonal ()))"
   ]
  },
  {
   "cell_type": "code",
   "execution_count": null,
   "metadata": {},
   "outputs": [],
   "source": [
    "m = n =  5\n",
    "m, n = A. shape\n",
    "nb = len (b)\n",
    "d = A. diagonal ()"
   ]
  },
  {
   "cell_type": "code",
   "execution_count": 7,
   "metadata": {},
   "outputs": [
    {
     "data": {
      "text/plain": [
       "array([[1., 0., 0., 0., 0.],\n",
       "       [0., 1., 0., 0., 0.],\n",
       "       [0., 0., 1., 0., 0.],\n",
       "       [0., 0., 0., 1., 0.],\n",
       "       [0., 0., 0., 0., 1.]])"
      ]
     },
     "execution_count": 7,
     "metadata": {},
     "output_type": "execute_result"
    }
   ],
   "source": [
    "np.eye(5)"
   ]
  },
  {
   "attachments": {},
   "cell_type": "markdown",
   "metadata": {},
   "source": [
    "### condition number of a matrix"
   ]
  },
  {
   "cell_type": "code",
   "execution_count": 13,
   "metadata": {},
   "outputs": [],
   "source": [
    "from numpy import linalg as la "
   ]
  },
  {
   "cell_type": "code",
   "execution_count": 14,
   "metadata": {},
   "outputs": [
    {
     "name": "stdout",
     "output_type": "stream",
     "text": [
      "Our Array...\n",
      " [[1 1 0]\n",
      " [1 0 1]\n",
      " [1 0 0]]\n"
     ]
    }
   ],
   "source": [
    "a = np.array([[ 1, 1, 0],\n",
    "   [1, 0, 1],\n",
    "   [1, 0, 0]])\n",
    "print(\"Our Array...\\n\",a)"
   ]
  },
  {
   "cell_type": "code",
   "execution_count": 17,
   "metadata": {},
   "outputs": [
    {
     "name": "stdout",
     "output_type": "stream",
     "text": [
      "\n",
      "Dimensions of our Array...\n",
      " 2\n",
      "\n",
      "Datatype of our Array object...\n",
      " int32\n",
      "\n",
      "Shape of our Array object...\n",
      " (3, 3)\n",
      "\n",
      "condition number...\n",
      " 3.7320508075688776\n"
     ]
    }
   ],
   "source": [
    "print(\"\\nDimensions of our Array...\\n\",a.ndim)\n",
    "print(\"\\nDatatype of our Array object...\\n\",a.dtype)\n",
    "print(\"\\nShape of our Array object...\\n\",a.shape)\n",
    "print(\"\\ncondition number...\\n\",la.cond(a))"
   ]
  },
  {
   "attachments": {},
   "cell_type": "markdown",
   "metadata": {},
   "source": [
    "### upper triangular"
   ]
  },
  {
   "cell_type": "code",
   "execution_count": 36,
   "metadata": {},
   "outputs": [],
   "source": [
    "def solve_low(A, b):\n",
    "    x = np. zeros (3)\n",
    "        # solve for lower triangular matrix\n",
    "    for i in range (3):\n",
    "        print('i: ', i,'\\n')\n",
    "        for j in range (i):\n",
    "            print('j: ', j,'\\n')\n",
    "            print('1. / A[i, i]: ',1. / A[i, i],' -A[i, j]: ', -A[i, j], 'x[j]: ', x[j],  '-A[i, j] * x[j]: ', -A[i, j] * x[j], '\\n')\n",
    "            x[i] += 1. / A[i, i] * (-A[i, j] * x[j])\n",
    "        print('A[i, i]: ', A[i, i], 'b[i]: ', b[i], 'x[i]: ', 1. / A[i, i] * b[i], '\\n\\n\\n')\n",
    "        x[i] += 1. / A[i, i] * b[i]\n",
    "    return x"
   ]
  },
  {
   "cell_type": "code",
   "execution_count": null,
   "metadata": {},
   "outputs": [],
   "source": [
    "## Test dimension mismatch\n",
    "#A = np.tril(np.arange(3*3).reshape(3,3))\n",
    "b = [1, 2, 3]\n",
    "##solve_low (A, b)\n",
    "print(A)\n",
    "print(b)\n",
    "##print(solve_low (A, b))\n",
    "\n",
    "x[1] += 1. / A[i, i] * (-A[i, j] * x[j])\n",
    "\n"
   ]
  },
  {
   "cell_type": "code",
   "execution_count": 61,
   "metadata": {},
   "outputs": [
    {
     "data": {
      "text/plain": [
       "array([[ 1., -1.],\n",
       "       [ 1.,  0.],\n",
       "       [ 1.,  1.]])"
      ]
     },
     "execution_count": 61,
     "metadata": {},
     "output_type": "execute_result"
    }
   ],
   "source": [
    "grid = np. linspace (-1, 1, 3)\n",
    "A = np. vander (grid , 2 , increasing = True )\n",
    "A"
   ]
  },
  {
   "cell_type": "code",
   "execution_count": 60,
   "metadata": {},
   "outputs": [
    {
     "data": {
      "text/plain": [
       "array([1., 1., 1., 1., 1.])"
      ]
     },
     "execution_count": 60,
     "metadata": {},
     "output_type": "execute_result"
    }
   ],
   "source": [
    "A[:, 0] #"
   ]
  },
  {
   "cell_type": "code",
   "execution_count": 65,
   "metadata": {},
   "outputs": [
    {
     "name": "stdout",
     "output_type": "stream",
     "text": [
      "[[0.57735027 0.        ]\n",
      " [0.57735027 0.        ]\n",
      " [0.57735027 0.        ]]\n",
      "\n",
      "\n",
      "\n",
      "\n",
      "[[1.73205081 0.        ]\n",
      " [0.         0.        ]]\n",
      "k:  1\n",
      "l:  0\n",
      "A[:, k] [-1.  0.  1.]\n",
      "Q[:, l]:  [0.57735027 0.57735027 0.57735027]\n",
      "R[l, k]:  0.0\n",
      "q:  [-1.  0.  1.]\n",
      "R[k,k]:  1.4142135623730951\n",
      "Q[:, k]:  1.4142135623730951\n"
     ]
    }
   ],
   "source": [
    "m, n = A. shape\n",
    "R = np. zeros ((n, n))\n",
    "Q = np. zeros ((m, n))\n",
    "R[0, 0] = np. linalg . norm (A[:, 0])\n",
    "Q[:, 0] = A[:, 0] / R[0, 0]\n",
    "print(Q)\n",
    "print('\\n\\n\\n')\n",
    "print(R)\n",
    "\n",
    "\n",
    "for k in range (1, n):\n",
    "        print('k: ', k)\n",
    "        for l in range (0, k):\n",
    "            print('l: ', l)\n",
    "            print('A[:, k]', A[:, k])\n",
    "            print('Q[:, l]: ', Q[:, l])\n",
    "            R[l, k] = A[:, k] @ Q[:, l]\n",
    "            print('R[l, k]: ', R[l, k] )\n",
    "        q = A[:, k] - Q @ R[:, k]\n",
    "        print('q: ', q)\n",
    "        R[k, k] = np. linalg . norm (q)### norm value at (1, 1)\n",
    "        print('R[k,k]: ',R[k,k])\n",
    "        Q[:, k] = q / R[k, k]\n",
    "        print('Q[:, k]: ',R[k,k])\n",
    "        ##print('\\n\\n\\n')"
   ]
  },
  {
   "cell_type": "code",
   "execution_count": 4,
   "metadata": {},
   "outputs": [
    {
     "data": {
      "text/plain": [
       "array([0, 1, 2, 3, 4])"
      ]
     },
     "execution_count": 4,
     "metadata": {},
     "output_type": "execute_result"
    }
   ],
   "source": [
    "np.arange(5)"
   ]
  },
  {
   "cell_type": "code",
   "execution_count": 64,
   "metadata": {},
   "outputs": [
    {
     "name": "stdout",
     "output_type": "stream",
     "text": [
      "[[ 0.57735027 -0.70710678]\n",
      " [ 0.57735027  0.        ]\n",
      " [ 0.57735027  0.70710678]]\n",
      "[[1.73205081 0.        ]\n",
      " [0.         1.41421356]]\n"
     ]
    }
   ],
   "source": [
    "print(Q)\n",
    "print(R)"
   ]
  }
 ],
 "metadata": {
  "kernelspec": {
   "display_name": "Python 3",
   "language": "python",
   "name": "python3"
  },
  "language_info": {
   "codemirror_mode": {
    "name": "ipython",
    "version": 3
   },
   "file_extension": ".py",
   "mimetype": "text/x-python",
   "name": "python",
   "nbconvert_exporter": "python",
   "pygments_lexer": "ipython3",
   "version": "3.10.0"
  },
  "orig_nbformat": 4,
  "vscode": {
   "interpreter": {
    "hash": "26de051ba29f2982a8de78e945f0abaf191376122a1563185a90213a26c5da77"
   }
  }
 },
 "nbformat": 4,
 "nbformat_minor": 2
}
