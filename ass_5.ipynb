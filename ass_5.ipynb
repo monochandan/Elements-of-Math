{
 "cells": [
  {
   "cell_type": "code",
   "execution_count": null,
   "metadata": {},
   "outputs": [],
   "source": [
    "import numpy as np"
   ]
  },
  {
   "cell_type": "code",
   "execution_count": null,
   "metadata": {},
   "outputs": [],
   "source": [
    "def lu_solve (lupiv , b, info = False ):\n",
    "    lu , piv = lupiv\n",
    "    lu = np. round (lu , 12)\n",
    "    m,n = np. shape (lu)\n",
    "    L = np. eye (m,m) + np. tril (lu [: ,: min (m,n)], k= -1)\n",
    "    U = np. triu (lu [: ,:n])"
   ]
  },
  {
   "cell_type": "code",
   "execution_count": null,
   "metadata": {},
   "outputs": [],
   "source": [
    "def lu_solve (lupiv , b, info = False ):\n",
    "    \"\"\"\n",
    "    Solve a system A x = b, where A is given as\n",
    "    P A = L U\n",
    "    with P being a permutation matrix , L lower triangular with unit\n",
    "    diagonal elements , and U upper triangular .\n",
    "    Parameters\n",
    "    ----------\n",
    "    lupiv : tuple containing lu and piv computed by lu_factor\n",
    "    b : (n ,) ndarray\n",
    "    right - hand side\n",
    "    info : switch whether to print info about existence of solutions\n",
    "    Returns\n",
    "    -------\n",
    "    x : (n ,) ndarray or None\n",
    "    unique solution if exists , otherwise nothing\n",
    "    \"\"\"\n",
    "    lu , piv = lupiv\n",
    "    lu = np. round (lu , 12)\n",
    "    m,n = np. shape (lu)\n",
    "    L = np. eye (m,m) + np. tril (lu [: ,: min (m,n)], k= -1)\n",
    "    U = np. triu (lu [: ,:n])"
   ]
  }
 ],
 "metadata": {
  "kernelspec": {
   "display_name": "Python 3",
   "language": "python",
   "name": "python3"
  },
  "language_info": {
   "name": "python",
   "version": "3.10.0"
  },
  "orig_nbformat": 4,
  "vscode": {
   "interpreter": {
    "hash": "26de051ba29f2982a8de78e945f0abaf191376122a1563185a90213a26c5da77"
   }
  }
 },
 "nbformat": 4,
 "nbformat_minor": 2
}
