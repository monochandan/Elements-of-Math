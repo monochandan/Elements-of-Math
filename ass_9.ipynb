{
 "cells": [
  {
   "cell_type": "code",
   "execution_count": null,
   "metadata": {},
   "outputs": [],
   "source": [
    "import numpy as np"
   ]
  },
  {
   "cell_type": "code",
   "execution_count": null,
   "metadata": {},
   "outputs": [],
   "source": [
    "def Jacobi_step (A, b, theta , x):\n",
    "    n = len (x)\n",
    "    xnew = np. zeros (n)\n",
    "    for i in range (n):\n",
    "        s1 = np. dot (A[i, :i], x[:i])\n",
    "        s2 = np. dot (A[i, i + 1:] , x[i + 1:])\n",
    "        xnew [i] = (1. - theta ) * x[i] + theta / A[i, i] * (b[i] - s1 - s2)\n",
    "    return xnew"
   ]
  },
  {
   "cell_type": "code",
   "execution_count": null,
   "metadata": {},
   "outputs": [],
   "source": [
    "def steepest_descent_step (A, b, theta , x):\n",
    "    r = A@x - b\n",
    "    theta = np.dot (r, r) / np. dot (A@r , r)\n",
    "    return x - theta * (A @ x - b)"
   ]
  }
 ],
 "metadata": {
  "language_info": {
   "name": "python"
  },
  "orig_nbformat": 4
 },
 "nbformat": 4,
 "nbformat_minor": 2
}
